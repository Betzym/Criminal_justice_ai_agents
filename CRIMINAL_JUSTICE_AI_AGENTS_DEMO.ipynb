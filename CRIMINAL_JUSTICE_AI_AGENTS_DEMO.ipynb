{
  "nbformat": 4,
  "nbformat_minor": 0,
  "metadata": {
    "colab": {
      "provenance": []
    },
    "kernelspec": {
      "name": "python3",
      "display_name": "Python 3"
    },
    "language_info": {
      "name": "python"
    }
  },
  "cells": [
    {
      "cell_type": "code",
      "source": [
        "!pip install -q crewai"
      ],
      "metadata": {
        "id": "0HD43hNMb9Hy",
        "collapsed": true
      },
      "execution_count": null,
      "outputs": []
    },
    {
      "cell_type": "code",
      "source": [
        "!pip install -q 'crewai[tools]'"
      ],
      "metadata": {
        "id": "Y0xOncHdci8F"
      },
      "execution_count": null,
      "outputs": []
    },
    {
      "cell_type": "code",
      "source": [
        "!pip install python-dotenv\n"
      ],
      "metadata": {
        "id": "lDW1jOoVczWZ"
      },
      "execution_count": null,
      "outputs": []
    },
    {
      "cell_type": "code",
      "source": [
        "%load_ext dotenv\n",
        "%dotenv\n"
      ],
      "metadata": {
        "id": "thb5Vr5UdaU1"
      },
      "execution_count": null,
      "outputs": []
    },
    {
      "cell_type": "code",
      "source": [
        "from dotenv import load_dotenv\n",
        "load_dotenv()"
      ],
      "metadata": {
        "id": "np_BJnkctneX"
      },
      "execution_count": null,
      "outputs": []
    },
    {
      "cell_type": "code",
      "source": [
        "import os\n",
        "api_key = os.getenv('OPENAI_API_KEY')\n",
        "# Ensure the key is loaded (do not print this in public or shared notebooks)\n",
        "if api_key is None:\n",
        "  raise ValueError(\"OPENAI_API_KEY must be set as an environment variable\")"
      ],
      "metadata": {
        "id": "LVX5uzNNtsPr"
      },
      "execution_count": null,
      "outputs": []
    },
    {
      "cell_type": "code",
      "source": [
        "import os\n",
        "from crewai import Agent, Task, Crew, Process\n",
        "from crewai_tools import SerperDevTool, PDFSearchTool"
      ],
      "metadata": {
        "id": "XOKQSY89kH2q"
      },
      "execution_count": null,
      "outputs": []
    },
    {
      "cell_type": "code",
      "source": [
        "#search_tool = SerperDevTool()\n",
        "pdf_tool = PDFSearchTool()\n"
      ],
      "metadata": {
        "id": "JwyZUj4YpfR0"
      },
      "execution_count": null,
      "outputs": []
    },
    {
      "cell_type": "code",
      "source": [
        "from langchain_openai import ChatOpenAI"
      ],
      "metadata": {
        "id": "-9KbCdiGqLei"
      },
      "execution_count": null,
      "outputs": []
    },
    {
      "cell_type": "code",
      "source": [
        "!ls -a\n"
      ],
      "metadata": {
        "id": "esW6HlAptZa3"
      },
      "execution_count": null,
      "outputs": []
    },
    {
      "cell_type": "code",
      "source": [
        "#llm = ChatOpenAI(model_name=\"gpt-3.5-turbo\", temperature=0.3, openai_api_key=api_key)\n"
      ],
      "metadata": {
        "id": "b7NO0H7gCcsa"
      },
      "execution_count": null,
      "outputs": []
    },
    {
      "cell_type": "code",
      "source": [
        "\n",
        "\n",
        "# List of your PDF files\n",
        "\n",
        "import os\n",
        "\n",
        "# Specify the directory containing the PDF files\n",
        "directory_path = '/content'  # Adjust this to your folder path\n",
        "\n",
        "# List all PDF files in the directory\n",
        "pdf_files = [os.path.join(directory_path, f) for f in os.listdir(directory_path) if f.endswith('.pdf')]\n",
        "\n",
        "# Now pdf_files contains all PDFs in the specified directory\n",
        "print(f\"Found {len(pdf_files)} PDF files in the directory.\")\n",
        "print(pdf_files)\n",
        "\n"
      ],
      "metadata": {
        "id": "5yujjP_RCxwx"
      },
      "execution_count": null,
      "outputs": []
    },
    {
      "cell_type": "code",
      "source": [
        "prosecutor = Agent(\n",
        "    role = \"Prosecuting Attorney\",\n",
        "    goal = \"Determine the given police report facts. Based on the police report facts, determine which strategy will be best for prosecution. Review the research and report your findings in bullet points titled with Prosecution Strategy. Always keep the integrity of the report.  The article should be in paragraph format, a brief graph summary and include hyperlinks to any sources used.\",\n",
        "    backstory = \"\"\"A high profile prosecuter. You are an expert on criminal law.\"\"\",\n",
        "    verbose=True,\n",
        "    allow_delegation=False,\n",
        "    search_tool = [PDFSearchTool],\n",
        "    llm = ChatOpenAI(model_name=\"gpt-3.5-turbo\",temperature=0.3)\n",
        ")"
      ],
      "metadata": {
        "id": "xD7w1UtKdBjw"
      },
      "execution_count": null,
      "outputs": []
    },
    {
      "cell_type": "code",
      "source": [
        "defense_attorney = Agent(\n",
        "    role = \"Defense Attorney at law\",\n",
        "    goal = \"Determine the given police report facts. Based on the police report facts, Determine which strategy will be best for prosecution. Review the research and report the updated findings in bullet points titled with Defense Strategy. Always keep the integrity of the report.  The article should be in paragraph format, a brief graph summary and include hyperlinks to any sources used.\",\n",
        "    backstory = \"\"\"A high profile defense attorney. You are an expert on criminal law.\"\"\",\n",
        "    verbose=True,\n",
        "    allow_delegation=False,\n",
        "    search_tool = [PDFSearchTool],\n",
        "    llm = ChatOpenAI(model_name=\"gpt-3.5-turbo\",temperature=0.3)\n",
        ")"
      ],
      "metadata": {
        "id": "1Rlg-ninsrcu"
      },
      "execution_count": null,
      "outputs": []
    },
    {
      "cell_type": "code",
      "source": [
        "judge = Agent(\n",
        "    role = \"Judge\",\n",
        "    goal = \"Determine the given police report facts. Focus on the police report facts. Ensure fairness and that the law is followed. Oversee legal proceedings in court. Interprets the law: Judges apply rules of law to determine how a trial or hearing will proceed. Making decisions: Judges must be able to weigh facts, apply the law, and make quick decisions. For example, they may decide whether to hold someone in jail until trial or set conditions for their release. Protect the legal rights of all parties involved. For example, they decide what evidence can be shown to the jury, instruct jurors on applicable laws, and consider aggravating or mitigating factors for sentencing. Facilitating negotiations: Judges may facilitate negotiations between parties. Always keep the integrity of the report and focuses on the police report facts. \",\n",
        "    backstory = \"\"\"Judges preside over hearings and listen to the arguments of opposing parties. Judges and hearing officers oversee legal matters in court or administrative proceedings. They may conduct pretrial hearings, facilitate negotiations between opposing parties, and issue legal decisions. Judges focus on the police report facts\"\"\",\n",
        "    verbose=True,\n",
        "    allow_delegation=False,\n",
        "    search_tool = [PDFSearchTool],\n",
        "    llm = ChatOpenAI(model_name=\"gpt-3.5-turbo\", temperature=0.3)\n",
        ")\n"
      ],
      "metadata": {
        "id": "wQ-WWycg6bkh"
      },
      "execution_count": null,
      "outputs": []
    },
    {
      "cell_type": "code",
      "source": [
        "script_writer = Agent(\n",
        "    role = \"Script Writer for legal assisting agents in a courtroom \",\n",
        "    goal = \"Create a script for the prosecutor based on the output of the prosecutor. The script should be movie style and brief. The script should be in a court setting and only in the prosectuor's point of view.  The article should be in markdown format. Be specific to be said in court. Keep the integrity of the police report too. \",\n",
        "    backstory = \"\"\"A script writer with experience in the legal field creating film and scripts.\"\"\",\n",
        "    verbose=True,\n",
        "    allow_delegation=False,\n",
        "    search_tool = [PDFSearchTool],\n",
        "    llm = ChatOpenAI(model_name=\"gpt-3.5-turbo\",temperature=0.3)\n",
        ")"
      ],
      "metadata": {
        "id": "bDKf8FFp8KE1"
      },
      "execution_count": null,
      "outputs": []
    },
    {
      "cell_type": "code",
      "source": [
        "\n",
        "\n",
        "task1 = Task(\n",
        "    description=\"\"\"Based on the police report facts, create a document called a complaint with the criminal charges you are bringing against the client and penal codes. Be specific to this police report. Always keep the integrity of the report.  The article should be in markdown format.\"\"\",\n",
        "    expected_output='Article in paragraph format and include hyperlinks to any sources used ',\n",
        "    agent = prosecutor\n",
        ")\n",
        "task2 = Task(\n",
        "    description=\"\"\"Based on the police report facts and previous output from task1, Create a brief script for the prosecutor. The script should be realistic, specific and concise. The script should be in a court setting and in the point of view of the prosecutor.  The article should be in markdown format. Be specific to be said in court,while keeping the integrity of the police report . \"\"\",\n",
        "    expected_output='Concise script format and include hyperlinks to any sources used ',\n",
        "    agent = judge\n",
        ")\n",
        "task3 = Task(\n",
        "    description=\"\"\"Based on the  police report facts, describe your defense strategy and whether you recommend a plea deal or trial . Be specific to this police report. Always keep the integrity of the police report.  The article should be in markdown format.\"\"\",\n",
        "    expected_output='Concise paragraph format and include hyperlinks to any sources used ',\n",
        "    agent = defense_attorney\n",
        ")\n",
        "\n",
        "task4 = Task(\n",
        "    description=\"\"\"Focus on the police report facts, inform the defendant of the charges, explain their rights, and make decisions regarding the plea and bail. Ensure that your actions and decisions are based specifically on the details in the police report. Always keep the integrity of the report. Then summarize  your research and report the findings in bullet points.\"\"\",\n",
        "    expected_output='Concise paragraph format and include hyperlinks to any sources used ',\n",
        "    agent = judge\n",
        ")\n",
        "\n",
        "\n"
      ],
      "metadata": {
        "id": "38DOzNNrv1HW"
      },
      "execution_count": null,
      "outputs": []
    },
    {
      "cell_type": "code",
      "source": [
        "task4 = Task(\n",
        "    description=\"\"\"Create a brief script for the prosecutor. The script should be realistic,specific and brief. The script should be in a court setting and in the point of view of the prosecutor.  The article should be in markdown format. Be specific to be said in court. Keep the integrity of the police report too. \"\"\",\n",
        "    expected_output='Concise script format',\n",
        "    agent = judge\n",
        ")"
      ],
      "metadata": {
        "id": "YtVLZ7E7p2E1"
      },
      "execution_count": null,
      "outputs": []
    },
    {
      "cell_type": "code",
      "source": [
        "\n",
        "\n",
        "crew = Crew(\n",
        "    agents = [prosecutor, script_writer, defense_attorney, judge],\n",
        "    tasks = [task1, task2, task3, task4],\n",
        "    verbose = 1,\n",
        ")"
      ],
      "metadata": {
        "id": "DrSwrmsd84Xy"
      },
      "execution_count": null,
      "outputs": []
    },
    {
      "cell_type": "markdown",
      "source": [],
      "metadata": {
        "id": "SHJ4Xg8frUqs"
      }
    },
    {
      "cell_type": "code",
      "source": [
        "result= crew.kickoff()\n",
        "print(\"-\")\n",
        "print(result)"
      ],
      "metadata": {
        "id": "7NMvx9awxAq4"
      },
      "execution_count": null,
      "outputs": []
    },
    {
      "cell_type": "code",
      "source": [],
      "metadata": {
        "id": "3ngK0ndAxjm6"
      },
      "execution_count": null,
      "outputs": []
    }
  ]
}